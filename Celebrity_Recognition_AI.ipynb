{
  "nbformat": 4,
  "nbformat_minor": 0,
  "metadata": {
    "colab": {
      "provenance": [],
      "mount_file_id": "14QkKRXOV5VCpeRFTolv0PyZl5oEU-7OR",
      "authorship_tag": "ABX9TyPtqJE9GMaQwmiZalUTkHW6",
      "include_colab_link": true
    },
    "kernelspec": {
      "name": "python3",
      "display_name": "Python 3"
    },
    "language_info": {
      "name": "python"
    }
  },
  "cells": [
    {
      "cell_type": "markdown",
      "metadata": {
        "id": "view-in-github",
        "colab_type": "text"
      },
      "source": [
        "<a href=\"https://colab.research.google.com/github/SwastikBhattacharyya/celebrity-recognizer/blob/main/Celebrity_Recognition_AI.ipynb\" target=\"_parent\"><img src=\"https://colab.research.google.com/assets/colab-badge.svg\" alt=\"Open In Colab\"/></a>"
      ]
    },
    {
      "cell_type": "code",
      "source": [
        "!pip install scikit-learn --upgrade"
      ],
      "metadata": {
        "colab": {
          "base_uri": "https://localhost:8080/"
        },
        "id": "f-zt0znEZw2s",
        "outputId": "89654e99-43e3-4908-d440-6b2cfe37c86a"
      },
      "execution_count": null,
      "outputs": [
        {
          "output_type": "stream",
          "name": "stdout",
          "text": [
            "Requirement already satisfied: scikit-learn in /usr/local/lib/python3.10/dist-packages (1.3.2)\n",
            "Requirement already satisfied: numpy<2.0,>=1.17.3 in /usr/local/lib/python3.10/dist-packages (from scikit-learn) (1.23.5)\n",
            "Requirement already satisfied: scipy>=1.5.0 in /usr/local/lib/python3.10/dist-packages (from scikit-learn) (1.11.4)\n",
            "Requirement already satisfied: joblib>=1.1.1 in /usr/local/lib/python3.10/dist-packages (from scikit-learn) (1.3.2)\n",
            "Requirement already satisfied: threadpoolctl>=2.0.0 in /usr/local/lib/python3.10/dist-packages (from scikit-learn) (3.2.0)\n"
          ]
        }
      ]
    },
    {
      "cell_type": "code",
      "execution_count": null,
      "metadata": {
        "id": "eesHO94B7L7S"
      },
      "outputs": [],
      "source": [
        "import numpy as np\n",
        "import cv2\n",
        "import os\n",
        "import shutil\n",
        "import matplotlib.pyplot as plt\n",
        "import seaborn as sn\n",
        "import pywt\n",
        "import joblib\n",
        "import json\n",
        "from sklearn.svm import SVC\n",
        "from sklearn.preprocessing import StandardScaler\n",
        "from sklearn.linear_model import LogisticRegression\n",
        "from sklearn.model_selection import train_test_split\n",
        "from sklearn.pipeline import make_pipeline\n",
        "from sklearn.metrics import confusion_matrix"
      ]
    },
    {
      "cell_type": "code",
      "source": [
        "face_cascade = cv2.CascadeClassifier('/content/drive/MyDrive/Colab Folders/Celebrity Recognition AI/opencv/haarcascades/haarcascade_frontalface_default.xml')\n",
        "eye_cascade = cv2.CascadeClassifier('/content/drive/MyDrive/Colab Folders/Celebrity Recognition AI/opencv/haarcascades/haarcascade_eye.xml')"
      ],
      "metadata": {
        "id": "HfV3fPH68kRE"
      },
      "execution_count": null,
      "outputs": []
    },
    {
      "cell_type": "code",
      "source": [
        "def get_cropped_image_if_2_eyes(image_path):\n",
        "  img = cv2.imread(image_path)\n",
        "  gray = cv2.cvtColor(img, cv2.COLOR_BGR2GRAY)\n",
        "  faces = face_cascade.detectMultiScale(gray, 1.3, 5)\n",
        "  for (x,y,w,h) in faces:\n",
        "    roi_gray = gray[y:y+h, x:x+w]\n",
        "    roi_color = img[y:y+h, x:x+w]\n",
        "    eyes = eye_cascade.detectMultiScale(roi_gray)\n",
        "    if len(eyes) >= 2:\n",
        "      return roi_color"
      ],
      "metadata": {
        "id": "RDe_fvsV8dXW"
      },
      "execution_count": null,
      "outputs": []
    },
    {
      "cell_type": "code",
      "source": [
        "dataset_path = '/content/drive/MyDrive/Colab Folders/Celebrity Recognition AI/dataset/'\n",
        "cropped_dataset_path = '/content/drive/MyDrive/Colab Folders/Celebrity Recognition AI/dataset-cropped/'"
      ],
      "metadata": {
        "id": "hx0JEpqQ979V"
      },
      "execution_count": null,
      "outputs": []
    },
    {
      "cell_type": "code",
      "source": [
        "img_dirs = []\n",
        "for entry in os.scandir(dataset_path):\n",
        "  if entry.is_dir():\n",
        "    img_dirs.append(entry.path)\n",
        "img_dirs"
      ],
      "metadata": {
        "colab": {
          "base_uri": "https://localhost:8080/"
        },
        "id": "-jJD-03G-H-G",
        "outputId": "a02ce85e-b955-4899-f00b-96580ef5d591"
      },
      "execution_count": null,
      "outputs": [
        {
          "output_type": "execute_result",
          "data": {
            "text/plain": [
              "['/content/drive/MyDrive/Colab Folders/Celebrity Recognition AI/dataset/Natalie Portman',\n",
              " '/content/drive/MyDrive/Colab Folders/Celebrity Recognition AI/dataset/Megan Fox',\n",
              " '/content/drive/MyDrive/Colab Folders/Celebrity Recognition AI/dataset/Leonardo DiCaprio',\n",
              " '/content/drive/MyDrive/Colab Folders/Celebrity Recognition AI/dataset/Kate Winslet',\n",
              " '/content/drive/MyDrive/Colab Folders/Celebrity Recognition AI/dataset/Johnny Depp',\n",
              " '/content/drive/MyDrive/Colab Folders/Celebrity Recognition AI/dataset/Jennifer Lawrence',\n",
              " '/content/drive/MyDrive/Colab Folders/Celebrity Recognition AI/dataset/Hugh Jackman',\n",
              " '/content/drive/MyDrive/Colab Folders/Celebrity Recognition AI/dataset/Denzel Washington',\n",
              " '/content/drive/MyDrive/Colab Folders/Celebrity Recognition AI/dataset/Brad Pitt',\n",
              " '/content/drive/MyDrive/Colab Folders/Celebrity Recognition AI/dataset/Angelina Jolie',\n",
              " '/content/drive/MyDrive/Colab Folders/Celebrity Recognition AI/dataset/Will Smith',\n",
              " '/content/drive/MyDrive/Colab Folders/Celebrity Recognition AI/dataset/Tom Hanks',\n",
              " '/content/drive/MyDrive/Colab Folders/Celebrity Recognition AI/dataset/Tom Cruise',\n",
              " '/content/drive/MyDrive/Colab Folders/Celebrity Recognition AI/dataset/Scarlett Johansson',\n",
              " '/content/drive/MyDrive/Colab Folders/Celebrity Recognition AI/dataset/Sandra Bullock',\n",
              " '/content/drive/MyDrive/Colab Folders/Celebrity Recognition AI/dataset/Robert Downey Jr',\n",
              " '/content/drive/MyDrive/Colab Folders/Celebrity Recognition AI/dataset/Nicole Kidman']"
            ]
          },
          "metadata": {},
          "execution_count": 6
        }
      ]
    },
    {
      "cell_type": "code",
      "source": [
        "if os.path.exists(cropped_dataset_path):\n",
        "  shutil.rmtree(cropped_dataset_path)\n",
        "os.mkdir(cropped_dataset_path)"
      ],
      "metadata": {
        "id": "WvVyVDzu-eS2"
      },
      "execution_count": null,
      "outputs": []
    },
    {
      "cell_type": "code",
      "source": [
        "cropped_image_dirs = []\n",
        "celebrity_file_names_dict = {}\n",
        "\n",
        "for img_dir in img_dirs[:5]:\n",
        "  count = 1\n",
        "  celebrity_name = img_dir.split('/')[-1].strip()\n",
        "  print(celebrity_name)\n",
        "\n",
        "  celebrity_file_names_dict[celebrity_name] = []\n",
        "\n",
        "  for entry in os.scandir(img_dir):\n",
        "    print(entry.path)\n",
        "    roi_color = get_cropped_image_if_2_eyes(entry.path)\n",
        "    if roi_color is not None:\n",
        "      cropped_folder = cropped_dataset_path + celebrity_name\n",
        "      if not os.path.exists(cropped_folder):\n",
        "        os.makedirs(cropped_folder)\n",
        "        cropped_image_dirs.append(cropped_folder)\n",
        "        print('Generating cropped player images in folder:', cropped_folder)\n",
        "\n",
        "      cropped_file_name = celebrity_name + str(count) + '.png'\n",
        "      cropped_file_path = cropped_folder + '/' + cropped_file_name\n",
        "\n",
        "      cv2.imwrite(cropped_file_path, roi_color)\n",
        "      celebrity_file_names_dict[celebrity_name].append(cropped_file_path)\n",
        "      count += 1"
      ],
      "metadata": {
        "colab": {
          "base_uri": "https://localhost:8080/"
        },
        "id": "Xd7FYdAX-0HG",
        "outputId": "a9a8d555-0b1c-4c0c-f339-efe41391f154"
      },
      "execution_count": null,
      "outputs": [
        {
          "output_type": "stream",
          "name": "stdout",
          "text": [
            "Natalie Portman\n",
            "/content/drive/MyDrive/Colab Folders/Celebrity Recognition AI/dataset/Natalie Portman/023_b70934ce.jpg\n",
            "Generating cropped player images in folder: /content/drive/MyDrive/Colab Folders/Celebrity Recognition AI/dataset-cropped/Natalie Portman\n",
            "/content/drive/MyDrive/Colab Folders/Celebrity Recognition AI/dataset/Natalie Portman/024_036921f7.jpg\n",
            "/content/drive/MyDrive/Colab Folders/Celebrity Recognition AI/dataset/Natalie Portman/025_c55c4e11.jpg\n",
            "/content/drive/MyDrive/Colab Folders/Celebrity Recognition AI/dataset/Natalie Portman/029_2f4ca9e5.jpg\n",
            "/content/drive/MyDrive/Colab Folders/Celebrity Recognition AI/dataset/Natalie Portman/030_ff4d2ab8.jpg\n",
            "/content/drive/MyDrive/Colab Folders/Celebrity Recognition AI/dataset/Natalie Portman/027_ffa4c67b.jpg\n",
            "/content/drive/MyDrive/Colab Folders/Celebrity Recognition AI/dataset/Natalie Portman/026_588e5bb5.jpg\n",
            "/content/drive/MyDrive/Colab Folders/Celebrity Recognition AI/dataset/Natalie Portman/028_0021b8a3.jpg\n",
            "/content/drive/MyDrive/Colab Folders/Celebrity Recognition AI/dataset/Natalie Portman/022_0b6f73be.jpg\n",
            "/content/drive/MyDrive/Colab Folders/Celebrity Recognition AI/dataset/Natalie Portman/021_0b9bd77d.jpg\n",
            "/content/drive/MyDrive/Colab Folders/Celebrity Recognition AI/dataset/Natalie Portman/018_cadc0487.jpg\n",
            "/content/drive/MyDrive/Colab Folders/Celebrity Recognition AI/dataset/Natalie Portman/020_c1a8bc2c.jpg\n",
            "/content/drive/MyDrive/Colab Folders/Celebrity Recognition AI/dataset/Natalie Portman/016_b170ab55.jpg\n",
            "/content/drive/MyDrive/Colab Folders/Celebrity Recognition AI/dataset/Natalie Portman/014_2c325a73.jpg\n",
            "/content/drive/MyDrive/Colab Folders/Celebrity Recognition AI/dataset/Natalie Portman/019_58c32d1b.jpg\n",
            "/content/drive/MyDrive/Colab Folders/Celebrity Recognition AI/dataset/Natalie Portman/017_22f7f808.jpg\n",
            "/content/drive/MyDrive/Colab Folders/Celebrity Recognition AI/dataset/Natalie Portman/015_d425c0eb.jpg\n",
            "/content/drive/MyDrive/Colab Folders/Celebrity Recognition AI/dataset/Natalie Portman/011_7b37bf1f.jpg\n",
            "/content/drive/MyDrive/Colab Folders/Celebrity Recognition AI/dataset/Natalie Portman/013_46b35530.jpg\n",
            "/content/drive/MyDrive/Colab Folders/Celebrity Recognition AI/dataset/Natalie Portman/010_9f899833.jpg\n",
            "/content/drive/MyDrive/Colab Folders/Celebrity Recognition AI/dataset/Natalie Portman/008_8fc20495.jpg\n",
            "/content/drive/MyDrive/Colab Folders/Celebrity Recognition AI/dataset/Natalie Portman/012_36c352b5.jpg\n",
            "/content/drive/MyDrive/Colab Folders/Celebrity Recognition AI/dataset/Natalie Portman/009_3300e98f.jpg\n",
            "/content/drive/MyDrive/Colab Folders/Celebrity Recognition AI/dataset/Natalie Portman/004_09c5d285.jpg\n",
            "/content/drive/MyDrive/Colab Folders/Celebrity Recognition AI/dataset/Natalie Portman/002_3a2ef5df.jpg\n",
            "/content/drive/MyDrive/Colab Folders/Celebrity Recognition AI/dataset/Natalie Portman/003_13b7bb9d.jpg\n",
            "/content/drive/MyDrive/Colab Folders/Celebrity Recognition AI/dataset/Natalie Portman/006_51ad8fdd.jpg\n",
            "/content/drive/MyDrive/Colab Folders/Celebrity Recognition AI/dataset/Natalie Portman/001_9cd1160a.jpg\n",
            "/content/drive/MyDrive/Colab Folders/Celebrity Recognition AI/dataset/Natalie Portman/005_f8b76ad5.jpg\n",
            "/content/drive/MyDrive/Colab Folders/Celebrity Recognition AI/dataset/Natalie Portman/007_b82eb947.jpg\n",
            "/content/drive/MyDrive/Colab Folders/Celebrity Recognition AI/dataset/Natalie Portman/100_f11d5057.jpg\n",
            "/content/drive/MyDrive/Colab Folders/Celebrity Recognition AI/dataset/Natalie Portman/096_e119e862.jpg\n",
            "/content/drive/MyDrive/Colab Folders/Celebrity Recognition AI/dataset/Natalie Portman/098_d82741fc.jpg\n",
            "/content/drive/MyDrive/Colab Folders/Celebrity Recognition AI/dataset/Natalie Portman/099_75aa5bcc.jpg\n",
            "/content/drive/MyDrive/Colab Folders/Celebrity Recognition AI/dataset/Natalie Portman/095_00690f89.jpg\n",
            "/content/drive/MyDrive/Colab Folders/Celebrity Recognition AI/dataset/Natalie Portman/093_dbb553bf.jpg\n",
            "/content/drive/MyDrive/Colab Folders/Celebrity Recognition AI/dataset/Natalie Portman/094_6aec42c7.jpg\n",
            "/content/drive/MyDrive/Colab Folders/Celebrity Recognition AI/dataset/Natalie Portman/090_d2b11902.jpg\n",
            "/content/drive/MyDrive/Colab Folders/Celebrity Recognition AI/dataset/Natalie Portman/097_ec4fe2e9.jpg\n",
            "/content/drive/MyDrive/Colab Folders/Celebrity Recognition AI/dataset/Natalie Portman/092_a67b993f.jpg\n",
            "/content/drive/MyDrive/Colab Folders/Celebrity Recognition AI/dataset/Natalie Portman/091_6985bf33.jpg\n",
            "/content/drive/MyDrive/Colab Folders/Celebrity Recognition AI/dataset/Natalie Portman/089_7a22dd1d.jpg\n",
            "/content/drive/MyDrive/Colab Folders/Celebrity Recognition AI/dataset/Natalie Portman/084_9db2a724.jpg\n",
            "/content/drive/MyDrive/Colab Folders/Celebrity Recognition AI/dataset/Natalie Portman/080_12cefe70.jpg\n",
            "/content/drive/MyDrive/Colab Folders/Celebrity Recognition AI/dataset/Natalie Portman/086_e6cb087e.jpg\n",
            "/content/drive/MyDrive/Colab Folders/Celebrity Recognition AI/dataset/Natalie Portman/083_7fc7beca.jpg\n",
            "/content/drive/MyDrive/Colab Folders/Celebrity Recognition AI/dataset/Natalie Portman/087_dabfb9e0.jpg\n",
            "/content/drive/MyDrive/Colab Folders/Celebrity Recognition AI/dataset/Natalie Portman/085_5abcaccb.jpg\n",
            "/content/drive/MyDrive/Colab Folders/Celebrity Recognition AI/dataset/Natalie Portman/082_6883328f.jpg\n",
            "/content/drive/MyDrive/Colab Folders/Celebrity Recognition AI/dataset/Natalie Portman/088_c6c7b0b2.jpg\n",
            "/content/drive/MyDrive/Colab Folders/Celebrity Recognition AI/dataset/Natalie Portman/081_bdc0cced.jpg\n",
            "/content/drive/MyDrive/Colab Folders/Celebrity Recognition AI/dataset/Natalie Portman/078_15befce2.jpg\n",
            "/content/drive/MyDrive/Colab Folders/Celebrity Recognition AI/dataset/Natalie Portman/079_61aaf003.jpg\n",
            "/content/drive/MyDrive/Colab Folders/Celebrity Recognition AI/dataset/Natalie Portman/077_e589a0e2.jpg\n",
            "/content/drive/MyDrive/Colab Folders/Celebrity Recognition AI/dataset/Natalie Portman/072_7dbad240.jpg\n",
            "/content/drive/MyDrive/Colab Folders/Celebrity Recognition AI/dataset/Natalie Portman/073_dfbed64d.jpg\n",
            "/content/drive/MyDrive/Colab Folders/Celebrity Recognition AI/dataset/Natalie Portman/069_c9e3207d.jpg\n",
            "/content/drive/MyDrive/Colab Folders/Celebrity Recognition AI/dataset/Natalie Portman/067_706a358a.jpg\n",
            "/content/drive/MyDrive/Colab Folders/Celebrity Recognition AI/dataset/Natalie Portman/071_7621368b.jpg\n",
            "/content/drive/MyDrive/Colab Folders/Celebrity Recognition AI/dataset/Natalie Portman/076_2d7a6078.jpg\n",
            "/content/drive/MyDrive/Colab Folders/Celebrity Recognition AI/dataset/Natalie Portman/074_f835bfaf.jpg\n",
            "/content/drive/MyDrive/Colab Folders/Celebrity Recognition AI/dataset/Natalie Portman/070_b83e7724.jpg\n",
            "/content/drive/MyDrive/Colab Folders/Celebrity Recognition AI/dataset/Natalie Portman/075_2b6154c6.jpg\n",
            "/content/drive/MyDrive/Colab Folders/Celebrity Recognition AI/dataset/Natalie Portman/064_f261e561.jpg\n",
            "/content/drive/MyDrive/Colab Folders/Celebrity Recognition AI/dataset/Natalie Portman/068_f1faa56e.jpg\n",
            "/content/drive/MyDrive/Colab Folders/Celebrity Recognition AI/dataset/Natalie Portman/063_1fb10bab.jpg\n",
            "/content/drive/MyDrive/Colab Folders/Celebrity Recognition AI/dataset/Natalie Portman/062_e1d9ac7c.jpg\n",
            "/content/drive/MyDrive/Colab Folders/Celebrity Recognition AI/dataset/Natalie Portman/066_6d963e5e.jpg\n",
            "/content/drive/MyDrive/Colab Folders/Celebrity Recognition AI/dataset/Natalie Portman/061_029fc37f.jpg\n",
            "/content/drive/MyDrive/Colab Folders/Celebrity Recognition AI/dataset/Natalie Portman/060_d89f212b.jpg\n",
            "/content/drive/MyDrive/Colab Folders/Celebrity Recognition AI/dataset/Natalie Portman/059_c13d7734.jpg\n",
            "/content/drive/MyDrive/Colab Folders/Celebrity Recognition AI/dataset/Natalie Portman/057_a633d34a.jpg\n",
            "/content/drive/MyDrive/Colab Folders/Celebrity Recognition AI/dataset/Natalie Portman/065_3fcffc66.jpg\n",
            "/content/drive/MyDrive/Colab Folders/Celebrity Recognition AI/dataset/Natalie Portman/056_666b6673.jpg\n",
            "/content/drive/MyDrive/Colab Folders/Celebrity Recognition AI/dataset/Natalie Portman/058_75c1a7f6.jpg\n",
            "/content/drive/MyDrive/Colab Folders/Celebrity Recognition AI/dataset/Natalie Portman/054_f0cd83d5.jpg\n",
            "/content/drive/MyDrive/Colab Folders/Celebrity Recognition AI/dataset/Natalie Portman/055_39a3d190.jpg\n",
            "/content/drive/MyDrive/Colab Folders/Celebrity Recognition AI/dataset/Natalie Portman/048_9f118a78.jpg\n",
            "/content/drive/MyDrive/Colab Folders/Celebrity Recognition AI/dataset/Natalie Portman/050_4bfee337.jpg\n",
            "/content/drive/MyDrive/Colab Folders/Celebrity Recognition AI/dataset/Natalie Portman/049_f7490e79.jpg\n",
            "/content/drive/MyDrive/Colab Folders/Celebrity Recognition AI/dataset/Natalie Portman/052_f9072013.jpg\n",
            "/content/drive/MyDrive/Colab Folders/Celebrity Recognition AI/dataset/Natalie Portman/045_2538be49.jpg\n",
            "/content/drive/MyDrive/Colab Folders/Celebrity Recognition AI/dataset/Natalie Portman/046_87ab3cfe.jpg\n",
            "/content/drive/MyDrive/Colab Folders/Celebrity Recognition AI/dataset/Natalie Portman/047_d39de18c.jpg\n",
            "/content/drive/MyDrive/Colab Folders/Celebrity Recognition AI/dataset/Natalie Portman/053_5b6de4ba.jpg\n",
            "/content/drive/MyDrive/Colab Folders/Celebrity Recognition AI/dataset/Natalie Portman/044_775d6581.jpg\n",
            "/content/drive/MyDrive/Colab Folders/Celebrity Recognition AI/dataset/Natalie Portman/051_9dbec6e1.jpg\n",
            "/content/drive/MyDrive/Colab Folders/Celebrity Recognition AI/dataset/Natalie Portman/041_e75de60a.jpg\n",
            "/content/drive/MyDrive/Colab Folders/Celebrity Recognition AI/dataset/Natalie Portman/043_a95c3f60.jpg\n",
            "/content/drive/MyDrive/Colab Folders/Celebrity Recognition AI/dataset/Natalie Portman/040_d80d3727.jpg\n",
            "/content/drive/MyDrive/Colab Folders/Celebrity Recognition AI/dataset/Natalie Portman/038_4930b73f.jpg\n",
            "/content/drive/MyDrive/Colab Folders/Celebrity Recognition AI/dataset/Natalie Portman/039_defb8d63.jpg\n",
            "/content/drive/MyDrive/Colab Folders/Celebrity Recognition AI/dataset/Natalie Portman/042_8168b9f8.jpg\n",
            "/content/drive/MyDrive/Colab Folders/Celebrity Recognition AI/dataset/Natalie Portman/037_aa4ba2b1.jpg\n",
            "/content/drive/MyDrive/Colab Folders/Celebrity Recognition AI/dataset/Natalie Portman/034_c658f190.jpg\n",
            "/content/drive/MyDrive/Colab Folders/Celebrity Recognition AI/dataset/Natalie Portman/036_b81fcbb5.jpg\n",
            "/content/drive/MyDrive/Colab Folders/Celebrity Recognition AI/dataset/Natalie Portman/031_972f207f.jpg\n",
            "/content/drive/MyDrive/Colab Folders/Celebrity Recognition AI/dataset/Natalie Portman/033_34c27ce3.jpg\n",
            "/content/drive/MyDrive/Colab Folders/Celebrity Recognition AI/dataset/Natalie Portman/032_79db7bb4.jpg\n",
            "/content/drive/MyDrive/Colab Folders/Celebrity Recognition AI/dataset/Natalie Portman/035_2238b9ea.jpg\n",
            "Megan Fox\n",
            "/content/drive/MyDrive/Colab Folders/Celebrity Recognition AI/dataset/Megan Fox/053_6ad198c0.jpg\n",
            "Generating cropped player images in folder: /content/drive/MyDrive/Colab Folders/Celebrity Recognition AI/dataset-cropped/Megan Fox\n",
            "/content/drive/MyDrive/Colab Folders/Celebrity Recognition AI/dataset/Megan Fox/051_d62b71ee.jpg\n",
            "/content/drive/MyDrive/Colab Folders/Celebrity Recognition AI/dataset/Megan Fox/049_2efe85b0.jpg\n",
            "/content/drive/MyDrive/Colab Folders/Celebrity Recognition AI/dataset/Megan Fox/050_b4742a63.jpg\n",
            "/content/drive/MyDrive/Colab Folders/Celebrity Recognition AI/dataset/Megan Fox/048_aae58619.jpg\n",
            "/content/drive/MyDrive/Colab Folders/Celebrity Recognition AI/dataset/Megan Fox/047_3043a87c.jpg\n",
            "/content/drive/MyDrive/Colab Folders/Celebrity Recognition AI/dataset/Megan Fox/046_953d292e.jpg\n",
            "/content/drive/MyDrive/Colab Folders/Celebrity Recognition AI/dataset/Megan Fox/044_bad2076f.jpg\n",
            "/content/drive/MyDrive/Colab Folders/Celebrity Recognition AI/dataset/Megan Fox/045_22823571.jpg\n",
            "/content/drive/MyDrive/Colab Folders/Celebrity Recognition AI/dataset/Megan Fox/042_870cbd50.jpg\n",
            "/content/drive/MyDrive/Colab Folders/Celebrity Recognition AI/dataset/Megan Fox/041_139bb2a5.jpg\n",
            "/content/drive/MyDrive/Colab Folders/Celebrity Recognition AI/dataset/Megan Fox/043_8ab0e1e6.jpg\n",
            "/content/drive/MyDrive/Colab Folders/Celebrity Recognition AI/dataset/Megan Fox/040_11ad3b6e.jpg\n",
            "/content/drive/MyDrive/Colab Folders/Celebrity Recognition AI/dataset/Megan Fox/039_45475171.jpg\n",
            "/content/drive/MyDrive/Colab Folders/Celebrity Recognition AI/dataset/Megan Fox/038_fe7a12d1.jpg\n",
            "/content/drive/MyDrive/Colab Folders/Celebrity Recognition AI/dataset/Megan Fox/037_f01637d6.jpg\n",
            "/content/drive/MyDrive/Colab Folders/Celebrity Recognition AI/dataset/Megan Fox/035_21c88485.jpg\n",
            "/content/drive/MyDrive/Colab Folders/Celebrity Recognition AI/dataset/Megan Fox/034_27326b4e.jpg\n",
            "/content/drive/MyDrive/Colab Folders/Celebrity Recognition AI/dataset/Megan Fox/036_e61191e5.jpg\n",
            "/content/drive/MyDrive/Colab Folders/Celebrity Recognition AI/dataset/Megan Fox/033_4e5edeac.jpg\n",
            "/content/drive/MyDrive/Colab Folders/Celebrity Recognition AI/dataset/Megan Fox/029_19296e1d.jpg\n",
            "/content/drive/MyDrive/Colab Folders/Celebrity Recognition AI/dataset/Megan Fox/031_d719ba67.jpg\n",
            "/content/drive/MyDrive/Colab Folders/Celebrity Recognition AI/dataset/Megan Fox/032_4feb9977.jpg\n",
            "/content/drive/MyDrive/Colab Folders/Celebrity Recognition AI/dataset/Megan Fox/030_02e7f231.jpg\n",
            "/content/drive/MyDrive/Colab Folders/Celebrity Recognition AI/dataset/Megan Fox/021_2d9dd3a2.jpg\n",
            "/content/drive/MyDrive/Colab Folders/Celebrity Recognition AI/dataset/Megan Fox/022_784eea3c.jpg\n",
            "/content/drive/MyDrive/Colab Folders/Celebrity Recognition AI/dataset/Megan Fox/028_44417c0b.jpg\n",
            "/content/drive/MyDrive/Colab Folders/Celebrity Recognition AI/dataset/Megan Fox/026_9ebf29ab.jpg\n",
            "/content/drive/MyDrive/Colab Folders/Celebrity Recognition AI/dataset/Megan Fox/027_308c9885.jpg\n",
            "/content/drive/MyDrive/Colab Folders/Celebrity Recognition AI/dataset/Megan Fox/019_8e696057.jpg\n",
            "/content/drive/MyDrive/Colab Folders/Celebrity Recognition AI/dataset/Megan Fox/016_bd51d057.jpg\n",
            "/content/drive/MyDrive/Colab Folders/Celebrity Recognition AI/dataset/Megan Fox/020_467a9bd7.jpg\n",
            "/content/drive/MyDrive/Colab Folders/Celebrity Recognition AI/dataset/Megan Fox/023_55dd20e3.jpg\n",
            "/content/drive/MyDrive/Colab Folders/Celebrity Recognition AI/dataset/Megan Fox/024_2c2a7324.jpg\n",
            "/content/drive/MyDrive/Colab Folders/Celebrity Recognition AI/dataset/Megan Fox/017_eed36648.jpg\n",
            "/content/drive/MyDrive/Colab Folders/Celebrity Recognition AI/dataset/Megan Fox/018_394cfad7.jpg\n",
            "/content/drive/MyDrive/Colab Folders/Celebrity Recognition AI/dataset/Megan Fox/025_b7dee9f2.jpg\n",
            "/content/drive/MyDrive/Colab Folders/Celebrity Recognition AI/dataset/Megan Fox/015_b4a21d28.jpg\n",
            "/content/drive/MyDrive/Colab Folders/Celebrity Recognition AI/dataset/Megan Fox/013_f4968d00.jpg\n",
            "/content/drive/MyDrive/Colab Folders/Celebrity Recognition AI/dataset/Megan Fox/011_b2354fd0.jpg\n",
            "/content/drive/MyDrive/Colab Folders/Celebrity Recognition AI/dataset/Megan Fox/012_d461a2b5.jpg\n",
            "/content/drive/MyDrive/Colab Folders/Celebrity Recognition AI/dataset/Megan Fox/014_d6e920d4.jpg\n",
            "/content/drive/MyDrive/Colab Folders/Celebrity Recognition AI/dataset/Megan Fox/008_74bda018.jpg\n",
            "/content/drive/MyDrive/Colab Folders/Celebrity Recognition AI/dataset/Megan Fox/006_4e33c943.jpg\n",
            "/content/drive/MyDrive/Colab Folders/Celebrity Recognition AI/dataset/Megan Fox/010_0479e335.jpg\n",
            "/content/drive/MyDrive/Colab Folders/Celebrity Recognition AI/dataset/Megan Fox/009_3283c30e.jpg\n",
            "/content/drive/MyDrive/Colab Folders/Celebrity Recognition AI/dataset/Megan Fox/007_e3073d58.jpg\n",
            "/content/drive/MyDrive/Colab Folders/Celebrity Recognition AI/dataset/Megan Fox/004_6aede3d3.jpg\n",
            "/content/drive/MyDrive/Colab Folders/Celebrity Recognition AI/dataset/Megan Fox/005_9574c208.jpg\n",
            "/content/drive/MyDrive/Colab Folders/Celebrity Recognition AI/dataset/Megan Fox/003_61dd1e53.jpg\n",
            "/content/drive/MyDrive/Colab Folders/Celebrity Recognition AI/dataset/Megan Fox/002_6e289116.jpg\n",
            "/content/drive/MyDrive/Colab Folders/Celebrity Recognition AI/dataset/Megan Fox/001_dfb62d96.jpg\n",
            "/content/drive/MyDrive/Colab Folders/Celebrity Recognition AI/dataset/Megan Fox/098_24676238.jpg\n",
            "/content/drive/MyDrive/Colab Folders/Celebrity Recognition AI/dataset/Megan Fox/100_f0e45dd1.jpg\n",
            "/content/drive/MyDrive/Colab Folders/Celebrity Recognition AI/dataset/Megan Fox/099_82722976.jpg\n",
            "/content/drive/MyDrive/Colab Folders/Celebrity Recognition AI/dataset/Megan Fox/096_2ca8243d.jpg\n",
            "/content/drive/MyDrive/Colab Folders/Celebrity Recognition AI/dataset/Megan Fox/093_82a4677f.jpg\n",
            "/content/drive/MyDrive/Colab Folders/Celebrity Recognition AI/dataset/Megan Fox/092_bbd39177.jpg\n",
            "/content/drive/MyDrive/Colab Folders/Celebrity Recognition AI/dataset/Megan Fox/097_e1dabc00.jpg\n",
            "/content/drive/MyDrive/Colab Folders/Celebrity Recognition AI/dataset/Megan Fox/094_1095eeb6.jpg\n",
            "/content/drive/MyDrive/Colab Folders/Celebrity Recognition AI/dataset/Megan Fox/095_fc25a60b.jpg\n",
            "/content/drive/MyDrive/Colab Folders/Celebrity Recognition AI/dataset/Megan Fox/089_ae8644ab.jpg\n",
            "/content/drive/MyDrive/Colab Folders/Celebrity Recognition AI/dataset/Megan Fox/091_4858eb13.jpg\n",
            "/content/drive/MyDrive/Colab Folders/Celebrity Recognition AI/dataset/Megan Fox/088_29b6bf25.jpg\n",
            "/content/drive/MyDrive/Colab Folders/Celebrity Recognition AI/dataset/Megan Fox/090_a2269658.jpg\n",
            "/content/drive/MyDrive/Colab Folders/Celebrity Recognition AI/dataset/Megan Fox/087_90c1dd76.jpg\n",
            "/content/drive/MyDrive/Colab Folders/Celebrity Recognition AI/dataset/Megan Fox/085_2a0a4182.jpg\n",
            "/content/drive/MyDrive/Colab Folders/Celebrity Recognition AI/dataset/Megan Fox/060_f5a38fe0.jpg\n",
            "/content/drive/MyDrive/Colab Folders/Celebrity Recognition AI/dataset/Megan Fox/086_b9831d16.jpg\n",
            "/content/drive/MyDrive/Colab Folders/Celebrity Recognition AI/dataset/Megan Fox/081_f78b8266.jpg\n",
            "/content/drive/MyDrive/Colab Folders/Celebrity Recognition AI/dataset/Megan Fox/079_4e33cd00.jpg\n",
            "/content/drive/MyDrive/Colab Folders/Celebrity Recognition AI/dataset/Megan Fox/080_bff10b31.jpg\n",
            "/content/drive/MyDrive/Colab Folders/Celebrity Recognition AI/dataset/Megan Fox/084_70354863.jpg\n",
            "/content/drive/MyDrive/Colab Folders/Celebrity Recognition AI/dataset/Megan Fox/083_323ae1e8.jpg\n",
            "/content/drive/MyDrive/Colab Folders/Celebrity Recognition AI/dataset/Megan Fox/078_6af10def.jpg\n",
            "/content/drive/MyDrive/Colab Folders/Celebrity Recognition AI/dataset/Megan Fox/077_de6b59a7.jpg\n",
            "/content/drive/MyDrive/Colab Folders/Celebrity Recognition AI/dataset/Megan Fox/076_424b03b7.jpg\n",
            "/content/drive/MyDrive/Colab Folders/Celebrity Recognition AI/dataset/Megan Fox/082_768aecdd.jpg\n",
            "/content/drive/MyDrive/Colab Folders/Celebrity Recognition AI/dataset/Megan Fox/075_9b57684f.jpg\n",
            "/content/drive/MyDrive/Colab Folders/Celebrity Recognition AI/dataset/Megan Fox/074_59a9ebff.jpg\n",
            "/content/drive/MyDrive/Colab Folders/Celebrity Recognition AI/dataset/Megan Fox/072_5debf32c.jpg\n",
            "/content/drive/MyDrive/Colab Folders/Celebrity Recognition AI/dataset/Megan Fox/068_b8b844e2.jpg\n",
            "/content/drive/MyDrive/Colab Folders/Celebrity Recognition AI/dataset/Megan Fox/070_4de04405.jpg\n",
            "/content/drive/MyDrive/Colab Folders/Celebrity Recognition AI/dataset/Megan Fox/071_d75194ff.jpg\n",
            "/content/drive/MyDrive/Colab Folders/Celebrity Recognition AI/dataset/Megan Fox/073_b7f93635.jpg\n",
            "/content/drive/MyDrive/Colab Folders/Celebrity Recognition AI/dataset/Megan Fox/067_4017d5e9.jpg\n",
            "/content/drive/MyDrive/Colab Folders/Celebrity Recognition AI/dataset/Megan Fox/069_0ffb5c63.jpg\n",
            "/content/drive/MyDrive/Colab Folders/Celebrity Recognition AI/dataset/Megan Fox/066_50092138.jpg\n",
            "/content/drive/MyDrive/Colab Folders/Celebrity Recognition AI/dataset/Megan Fox/065_016dc8e2.jpg\n",
            "/content/drive/MyDrive/Colab Folders/Celebrity Recognition AI/dataset/Megan Fox/062_2539f58f.jpg\n",
            "/content/drive/MyDrive/Colab Folders/Celebrity Recognition AI/dataset/Megan Fox/064_61385762.jpg\n",
            "/content/drive/MyDrive/Colab Folders/Celebrity Recognition AI/dataset/Megan Fox/063_10c723ae.jpg\n",
            "/content/drive/MyDrive/Colab Folders/Celebrity Recognition AI/dataset/Megan Fox/058_1b5b5422.jpg\n",
            "/content/drive/MyDrive/Colab Folders/Celebrity Recognition AI/dataset/Megan Fox/055_9508128d.jpg\n",
            "/content/drive/MyDrive/Colab Folders/Celebrity Recognition AI/dataset/Megan Fox/056_ce828b1f.jpg\n",
            "/content/drive/MyDrive/Colab Folders/Celebrity Recognition AI/dataset/Megan Fox/059_d09c7676.jpg\n",
            "/content/drive/MyDrive/Colab Folders/Celebrity Recognition AI/dataset/Megan Fox/061_d844ec74.jpg\n",
            "/content/drive/MyDrive/Colab Folders/Celebrity Recognition AI/dataset/Megan Fox/057_d2d179a5.jpg\n",
            "/content/drive/MyDrive/Colab Folders/Celebrity Recognition AI/dataset/Megan Fox/052_3f3b6764.jpg\n",
            "/content/drive/MyDrive/Colab Folders/Celebrity Recognition AI/dataset/Megan Fox/054_5a9566eb.jpg\n",
            "Leonardo DiCaprio\n",
            "/content/drive/MyDrive/Colab Folders/Celebrity Recognition AI/dataset/Leonardo DiCaprio/006_30010640.jpg\n",
            "Generating cropped player images in folder: /content/drive/MyDrive/Colab Folders/Celebrity Recognition AI/dataset-cropped/Leonardo DiCaprio\n",
            "/content/drive/MyDrive/Colab Folders/Celebrity Recognition AI/dataset/Leonardo DiCaprio/003_85990366.jpg\n",
            "/content/drive/MyDrive/Colab Folders/Celebrity Recognition AI/dataset/Leonardo DiCaprio/004_af012af1.jpg\n",
            "/content/drive/MyDrive/Colab Folders/Celebrity Recognition AI/dataset/Leonardo DiCaprio/001_08194468.jpg\n",
            "/content/drive/MyDrive/Colab Folders/Celebrity Recognition AI/dataset/Leonardo DiCaprio/002_86e8aa58.jpg\n",
            "/content/drive/MyDrive/Colab Folders/Celebrity Recognition AI/dataset/Leonardo DiCaprio/081_a32678db.jpg\n",
            "/content/drive/MyDrive/Colab Folders/Celebrity Recognition AI/dataset/Leonardo DiCaprio/075_c2c28553.jpg\n",
            "/content/drive/MyDrive/Colab Folders/Celebrity Recognition AI/dataset/Leonardo DiCaprio/073_42e32f65.jpg\n",
            "/content/drive/MyDrive/Colab Folders/Celebrity Recognition AI/dataset/Leonardo DiCaprio/074_2b2a84b6.jpg\n",
            "/content/drive/MyDrive/Colab Folders/Celebrity Recognition AI/dataset/Leonardo DiCaprio/079_6ec91919.jpg\n",
            "/content/drive/MyDrive/Colab Folders/Celebrity Recognition AI/dataset/Leonardo DiCaprio/078_a7fd9be1.jpg\n",
            "/content/drive/MyDrive/Colab Folders/Celebrity Recognition AI/dataset/Leonardo DiCaprio/076_6fca3a0c.jpg\n",
            "/content/drive/MyDrive/Colab Folders/Celebrity Recognition AI/dataset/Leonardo DiCaprio/070_ae3a4fa0.jpg\n",
            "/content/drive/MyDrive/Colab Folders/Celebrity Recognition AI/dataset/Leonardo DiCaprio/072_c887ec5c.jpg\n",
            "/content/drive/MyDrive/Colab Folders/Celebrity Recognition AI/dataset/Leonardo DiCaprio/077_cd8dcf22.jpg\n",
            "/content/drive/MyDrive/Colab Folders/Celebrity Recognition AI/dataset/Leonardo DiCaprio/071_a052296d.jpg\n",
            "/content/drive/MyDrive/Colab Folders/Celebrity Recognition AI/dataset/Leonardo DiCaprio/067_a0efbd88.jpg\n",
            "/content/drive/MyDrive/Colab Folders/Celebrity Recognition AI/dataset/Leonardo DiCaprio/065_e739f721.jpg\n",
            "/content/drive/MyDrive/Colab Folders/Celebrity Recognition AI/dataset/Leonardo DiCaprio/066_f048ba09.jpg\n",
            "/content/drive/MyDrive/Colab Folders/Celebrity Recognition AI/dataset/Leonardo DiCaprio/069_b5219746.jpg\n",
            "/content/drive/MyDrive/Colab Folders/Celebrity Recognition AI/dataset/Leonardo DiCaprio/068_a703f85f.jpg\n",
            "/content/drive/MyDrive/Colab Folders/Celebrity Recognition AI/dataset/Leonardo DiCaprio/062_67f50ec4.jpg\n",
            "/content/drive/MyDrive/Colab Folders/Celebrity Recognition AI/dataset/Leonardo DiCaprio/064_397fd4d4.jpg\n",
            "/content/drive/MyDrive/Colab Folders/Celebrity Recognition AI/dataset/Leonardo DiCaprio/060_668ebb3f.jpg\n",
            "/content/drive/MyDrive/Colab Folders/Celebrity Recognition AI/dataset/Leonardo DiCaprio/063_55002ecd.jpg\n",
            "/content/drive/MyDrive/Colab Folders/Celebrity Recognition AI/dataset/Leonardo DiCaprio/059_1027f3c2.jpg\n",
            "/content/drive/MyDrive/Colab Folders/Celebrity Recognition AI/dataset/Leonardo DiCaprio/061_57c86521.jpg\n",
            "/content/drive/MyDrive/Colab Folders/Celebrity Recognition AI/dataset/Leonardo DiCaprio/057_f0c37eee.jpg\n",
            "/content/drive/MyDrive/Colab Folders/Celebrity Recognition AI/dataset/Leonardo DiCaprio/053_8bfac05e.jpg\n",
            "/content/drive/MyDrive/Colab Folders/Celebrity Recognition AI/dataset/Leonardo DiCaprio/050_e7bdecc0.jpg\n",
            "/content/drive/MyDrive/Colab Folders/Celebrity Recognition AI/dataset/Leonardo DiCaprio/052_74c7be90.jpg\n",
            "/content/drive/MyDrive/Colab Folders/Celebrity Recognition AI/dataset/Leonardo DiCaprio/058_0a6c61e9.jpg\n",
            "/content/drive/MyDrive/Colab Folders/Celebrity Recognition AI/dataset/Leonardo DiCaprio/054_1de20f77.jpg\n",
            "/content/drive/MyDrive/Colab Folders/Celebrity Recognition AI/dataset/Leonardo DiCaprio/056_13edab75.jpg\n",
            "/content/drive/MyDrive/Colab Folders/Celebrity Recognition AI/dataset/Leonardo DiCaprio/051_38196d60.jpg\n",
            "/content/drive/MyDrive/Colab Folders/Celebrity Recognition AI/dataset/Leonardo DiCaprio/055_ba4ace00.jpg\n",
            "/content/drive/MyDrive/Colab Folders/Celebrity Recognition AI/dataset/Leonardo DiCaprio/047_ce57f03b.jpg\n",
            "/content/drive/MyDrive/Colab Folders/Celebrity Recognition AI/dataset/Leonardo DiCaprio/049_37f969c1.jpg\n",
            "/content/drive/MyDrive/Colab Folders/Celebrity Recognition AI/dataset/Leonardo DiCaprio/048_f82caaae.jpg\n",
            "/content/drive/MyDrive/Colab Folders/Celebrity Recognition AI/dataset/Leonardo DiCaprio/046_db08e5f7.jpg\n",
            "/content/drive/MyDrive/Colab Folders/Celebrity Recognition AI/dataset/Leonardo DiCaprio/044_f13caf17.jpg\n",
            "/content/drive/MyDrive/Colab Folders/Celebrity Recognition AI/dataset/Leonardo DiCaprio/045_d074e61c.jpg\n",
            "/content/drive/MyDrive/Colab Folders/Celebrity Recognition AI/dataset/Leonardo DiCaprio/039_d49e8191.jpg\n",
            "/content/drive/MyDrive/Colab Folders/Celebrity Recognition AI/dataset/Leonardo DiCaprio/037_fe4d2d8f.jpg\n",
            "/content/drive/MyDrive/Colab Folders/Celebrity Recognition AI/dataset/Leonardo DiCaprio/040_3a2c98cd.jpg\n",
            "/content/drive/MyDrive/Colab Folders/Celebrity Recognition AI/dataset/Leonardo DiCaprio/038_b52784d4.jpg\n",
            "/content/drive/MyDrive/Colab Folders/Celebrity Recognition AI/dataset/Leonardo DiCaprio/036_f5ea9e84.jpg\n",
            "/content/drive/MyDrive/Colab Folders/Celebrity Recognition AI/dataset/Leonardo DiCaprio/035_ab7cf1c4.jpg\n",
            "/content/drive/MyDrive/Colab Folders/Celebrity Recognition AI/dataset/Leonardo DiCaprio/043_93a5e582.jpg\n",
            "/content/drive/MyDrive/Colab Folders/Celebrity Recognition AI/dataset/Leonardo DiCaprio/041_c91b0923.jpg\n",
            "/content/drive/MyDrive/Colab Folders/Celebrity Recognition AI/dataset/Leonardo DiCaprio/034_00c6d43e.jpg\n",
            "/content/drive/MyDrive/Colab Folders/Celebrity Recognition AI/dataset/Leonardo DiCaprio/042_bfbfd7d8.jpg\n",
            "/content/drive/MyDrive/Colab Folders/Celebrity Recognition AI/dataset/Leonardo DiCaprio/033_312ea9ed.jpg\n",
            "/content/drive/MyDrive/Colab Folders/Celebrity Recognition AI/dataset/Leonardo DiCaprio/031_28a211fc.jpg\n",
            "/content/drive/MyDrive/Colab Folders/Celebrity Recognition AI/dataset/Leonardo DiCaprio/030_60acb78e.jpg\n",
            "/content/drive/MyDrive/Colab Folders/Celebrity Recognition AI/dataset/Leonardo DiCaprio/029_8522ebc8.jpg\n",
            "/content/drive/MyDrive/Colab Folders/Celebrity Recognition AI/dataset/Leonardo DiCaprio/032_00aee064.jpg\n",
            "/content/drive/MyDrive/Colab Folders/Celebrity Recognition AI/dataset/Leonardo DiCaprio/028_38a65d29.jpg\n",
            "/content/drive/MyDrive/Colab Folders/Celebrity Recognition AI/dataset/Leonardo DiCaprio/024_bf83d073.jpg\n",
            "/content/drive/MyDrive/Colab Folders/Celebrity Recognition AI/dataset/Leonardo DiCaprio/026_ecbdaaa7.jpg\n",
            "/content/drive/MyDrive/Colab Folders/Celebrity Recognition AI/dataset/Leonardo DiCaprio/027_7094e195.jpg\n",
            "/content/drive/MyDrive/Colab Folders/Celebrity Recognition AI/dataset/Leonardo DiCaprio/023_0367d72c.jpg\n",
            "/content/drive/MyDrive/Colab Folders/Celebrity Recognition AI/dataset/Leonardo DiCaprio/021_eecdee92.jpg\n",
            "/content/drive/MyDrive/Colab Folders/Celebrity Recognition AI/dataset/Leonardo DiCaprio/025_e5920270.jpg\n",
            "/content/drive/MyDrive/Colab Folders/Celebrity Recognition AI/dataset/Leonardo DiCaprio/017_51311450.jpg\n",
            "/content/drive/MyDrive/Colab Folders/Celebrity Recognition AI/dataset/Leonardo DiCaprio/016_7b57be6a.jpg\n",
            "/content/drive/MyDrive/Colab Folders/Celebrity Recognition AI/dataset/Leonardo DiCaprio/022_66e94346.jpg\n",
            "/content/drive/MyDrive/Colab Folders/Celebrity Recognition AI/dataset/Leonardo DiCaprio/020_14f28bc8.jpg\n",
            "/content/drive/MyDrive/Colab Folders/Celebrity Recognition AI/dataset/Leonardo DiCaprio/019_78627223.jpg\n",
            "/content/drive/MyDrive/Colab Folders/Celebrity Recognition AI/dataset/Leonardo DiCaprio/014_539eee38.jpg\n",
            "/content/drive/MyDrive/Colab Folders/Celebrity Recognition AI/dataset/Leonardo DiCaprio/013_ca6af517.jpg\n",
            "/content/drive/MyDrive/Colab Folders/Celebrity Recognition AI/dataset/Leonardo DiCaprio/015_2872d02b.jpg\n",
            "/content/drive/MyDrive/Colab Folders/Celebrity Recognition AI/dataset/Leonardo DiCaprio/018_2c458568.jpg\n",
            "/content/drive/MyDrive/Colab Folders/Celebrity Recognition AI/dataset/Leonardo DiCaprio/011_0549f94d.jpg\n",
            "/content/drive/MyDrive/Colab Folders/Celebrity Recognition AI/dataset/Leonardo DiCaprio/012_d7aea1e6.jpg\n",
            "/content/drive/MyDrive/Colab Folders/Celebrity Recognition AI/dataset/Leonardo DiCaprio/008_35daa4bc.jpg\n",
            "/content/drive/MyDrive/Colab Folders/Celebrity Recognition AI/dataset/Leonardo DiCaprio/010_2f9c83bc.jpg\n",
            "/content/drive/MyDrive/Colab Folders/Celebrity Recognition AI/dataset/Leonardo DiCaprio/007_6ca7c622.jpg\n",
            "/content/drive/MyDrive/Colab Folders/Celebrity Recognition AI/dataset/Leonardo DiCaprio/005_7fe5b764.jpg\n",
            "/content/drive/MyDrive/Colab Folders/Celebrity Recognition AI/dataset/Leonardo DiCaprio/009_b86449f6.jpg\n",
            "/content/drive/MyDrive/Colab Folders/Celebrity Recognition AI/dataset/Leonardo DiCaprio/099_c25b7b04.jpg\n",
            "/content/drive/MyDrive/Colab Folders/Celebrity Recognition AI/dataset/Leonardo DiCaprio/097_1837d89e.jpg\n",
            "/content/drive/MyDrive/Colab Folders/Celebrity Recognition AI/dataset/Leonardo DiCaprio/096_c30a9446.jpg\n",
            "/content/drive/MyDrive/Colab Folders/Celebrity Recognition AI/dataset/Leonardo DiCaprio/095_7ffaffe6.jpg\n",
            "/content/drive/MyDrive/Colab Folders/Celebrity Recognition AI/dataset/Leonardo DiCaprio/098_f0bc37c7.jpg\n",
            "/content/drive/MyDrive/Colab Folders/Celebrity Recognition AI/dataset/Leonardo DiCaprio/100_ec9fe97f.jpg\n",
            "/content/drive/MyDrive/Colab Folders/Celebrity Recognition AI/dataset/Leonardo DiCaprio/093_811dc474.jpg\n",
            "/content/drive/MyDrive/Colab Folders/Celebrity Recognition AI/dataset/Leonardo DiCaprio/094_78e0fb7b.jpg\n",
            "/content/drive/MyDrive/Colab Folders/Celebrity Recognition AI/dataset/Leonardo DiCaprio/090_b316be20.jpg\n",
            "/content/drive/MyDrive/Colab Folders/Celebrity Recognition AI/dataset/Leonardo DiCaprio/092_cbc6d525.jpg\n",
            "/content/drive/MyDrive/Colab Folders/Celebrity Recognition AI/dataset/Leonardo DiCaprio/087_1382b266.jpg\n",
            "/content/drive/MyDrive/Colab Folders/Celebrity Recognition AI/dataset/Leonardo DiCaprio/089_8e7757ef.jpg\n",
            "/content/drive/MyDrive/Colab Folders/Celebrity Recognition AI/dataset/Leonardo DiCaprio/088_41213f8b.jpg\n",
            "/content/drive/MyDrive/Colab Folders/Celebrity Recognition AI/dataset/Leonardo DiCaprio/083_f80d8a01.jpg\n",
            "/content/drive/MyDrive/Colab Folders/Celebrity Recognition AI/dataset/Leonardo DiCaprio/084_08314073.jpg\n",
            "/content/drive/MyDrive/Colab Folders/Celebrity Recognition AI/dataset/Leonardo DiCaprio/086_a1441427.jpg\n",
            "/content/drive/MyDrive/Colab Folders/Celebrity Recognition AI/dataset/Leonardo DiCaprio/091_e39f525d.jpg\n",
            "/content/drive/MyDrive/Colab Folders/Celebrity Recognition AI/dataset/Leonardo DiCaprio/080_2bffea0b.jpg\n",
            "/content/drive/MyDrive/Colab Folders/Celebrity Recognition AI/dataset/Leonardo DiCaprio/085_a292bf25.jpg\n",
            "/content/drive/MyDrive/Colab Folders/Celebrity Recognition AI/dataset/Leonardo DiCaprio/082_d797cdf3.jpg\n",
            "Kate Winslet\n",
            "/content/drive/MyDrive/Colab Folders/Celebrity Recognition AI/dataset/Kate Winslet/028_669aab36.jpg\n",
            "Generating cropped player images in folder: /content/drive/MyDrive/Colab Folders/Celebrity Recognition AI/dataset-cropped/Kate Winslet\n",
            "/content/drive/MyDrive/Colab Folders/Celebrity Recognition AI/dataset/Kate Winslet/027_f8cd6e70.jpg\n",
            "/content/drive/MyDrive/Colab Folders/Celebrity Recognition AI/dataset/Kate Winslet/026_92cdfd7c.jpg\n",
            "/content/drive/MyDrive/Colab Folders/Celebrity Recognition AI/dataset/Kate Winslet/023_06dbacd1.jpg\n",
            "/content/drive/MyDrive/Colab Folders/Celebrity Recognition AI/dataset/Kate Winslet/022_6cc0e508.jpg\n",
            "/content/drive/MyDrive/Colab Folders/Celebrity Recognition AI/dataset/Kate Winslet/024_cc39b61d.jpg\n",
            "/content/drive/MyDrive/Colab Folders/Celebrity Recognition AI/dataset/Kate Winslet/021_40180588.jpg\n",
            "/content/drive/MyDrive/Colab Folders/Celebrity Recognition AI/dataset/Kate Winslet/020_a7a653f4.jpg\n",
            "/content/drive/MyDrive/Colab Folders/Celebrity Recognition AI/dataset/Kate Winslet/019_4402a7fe.jpg\n",
            "/content/drive/MyDrive/Colab Folders/Celebrity Recognition AI/dataset/Kate Winslet/018_738a56fd.jpg\n",
            "/content/drive/MyDrive/Colab Folders/Celebrity Recognition AI/dataset/Kate Winslet/014_76fd590c.jpg\n",
            "/content/drive/MyDrive/Colab Folders/Celebrity Recognition AI/dataset/Kate Winslet/013_b59e4acc.jpg\n",
            "/content/drive/MyDrive/Colab Folders/Celebrity Recognition AI/dataset/Kate Winslet/015_3a0f9ec8.jpg\n",
            "/content/drive/MyDrive/Colab Folders/Celebrity Recognition AI/dataset/Kate Winslet/016_211776b6.jpg\n",
            "/content/drive/MyDrive/Colab Folders/Celebrity Recognition AI/dataset/Kate Winslet/017_fb53f84d.jpg\n",
            "/content/drive/MyDrive/Colab Folders/Celebrity Recognition AI/dataset/Kate Winslet/011_dbc62ba7.jpg\n",
            "/content/drive/MyDrive/Colab Folders/Celebrity Recognition AI/dataset/Kate Winslet/012_a2bb90dc.jpg\n",
            "/content/drive/MyDrive/Colab Folders/Celebrity Recognition AI/dataset/Kate Winslet/009_07c15c37.jpg\n",
            "/content/drive/MyDrive/Colab Folders/Celebrity Recognition AI/dataset/Kate Winslet/010_6102c83d.jpg\n",
            "/content/drive/MyDrive/Colab Folders/Celebrity Recognition AI/dataset/Kate Winslet/006_eda1948f.jpg\n",
            "/content/drive/MyDrive/Colab Folders/Celebrity Recognition AI/dataset/Kate Winslet/008_6c01eb52.jpg\n",
            "/content/drive/MyDrive/Colab Folders/Celebrity Recognition AI/dataset/Kate Winslet/004_0816d969.jpg\n",
            "/content/drive/MyDrive/Colab Folders/Celebrity Recognition AI/dataset/Kate Winslet/005_93b2fce9.jpg\n",
            "/content/drive/MyDrive/Colab Folders/Celebrity Recognition AI/dataset/Kate Winslet/007_572cf58c.jpg\n",
            "/content/drive/MyDrive/Colab Folders/Celebrity Recognition AI/dataset/Kate Winslet/003_acb20793.jpg\n",
            "/content/drive/MyDrive/Colab Folders/Celebrity Recognition AI/dataset/Kate Winslet/002_590bb980.jpg\n",
            "/content/drive/MyDrive/Colab Folders/Celebrity Recognition AI/dataset/Kate Winslet/001_5992faf7.jpg\n",
            "/content/drive/MyDrive/Colab Folders/Celebrity Recognition AI/dataset/Kate Winslet/099_61c7b659.jpg\n",
            "/content/drive/MyDrive/Colab Folders/Celebrity Recognition AI/dataset/Kate Winslet/100_6cee7c73.jpg\n",
            "/content/drive/MyDrive/Colab Folders/Celebrity Recognition AI/dataset/Kate Winslet/098_f4f39b7c.jpg\n",
            "/content/drive/MyDrive/Colab Folders/Celebrity Recognition AI/dataset/Kate Winslet/097_51a924c1.jpg\n",
            "/content/drive/MyDrive/Colab Folders/Celebrity Recognition AI/dataset/Kate Winslet/096_32a79dde.jpg\n",
            "/content/drive/MyDrive/Colab Folders/Celebrity Recognition AI/dataset/Kate Winslet/093_4876af22.jpg\n",
            "/content/drive/MyDrive/Colab Folders/Celebrity Recognition AI/dataset/Kate Winslet/094_b043e45c.jpg\n",
            "/content/drive/MyDrive/Colab Folders/Celebrity Recognition AI/dataset/Kate Winslet/095_8ffab61d.jpg\n",
            "/content/drive/MyDrive/Colab Folders/Celebrity Recognition AI/dataset/Kate Winslet/090_f67e981f.jpg\n",
            "/content/drive/MyDrive/Colab Folders/Celebrity Recognition AI/dataset/Kate Winslet/088_f6c2c5d2.jpg\n",
            "/content/drive/MyDrive/Colab Folders/Celebrity Recognition AI/dataset/Kate Winslet/092_7716bdbb.jpg\n",
            "/content/drive/MyDrive/Colab Folders/Celebrity Recognition AI/dataset/Kate Winslet/091_930fe784.jpg\n",
            "/content/drive/MyDrive/Colab Folders/Celebrity Recognition AI/dataset/Kate Winslet/085_c957f9b7.jpg\n",
            "/content/drive/MyDrive/Colab Folders/Celebrity Recognition AI/dataset/Kate Winslet/089_16077370.jpg\n",
            "/content/drive/MyDrive/Colab Folders/Celebrity Recognition AI/dataset/Kate Winslet/082_4bbff9c3.jpg\n",
            "/content/drive/MyDrive/Colab Folders/Celebrity Recognition AI/dataset/Kate Winslet/086_c7665b8f.jpg\n",
            "/content/drive/MyDrive/Colab Folders/Celebrity Recognition AI/dataset/Kate Winslet/087_4ec19123.jpg\n",
            "/content/drive/MyDrive/Colab Folders/Celebrity Recognition AI/dataset/Kate Winslet/080_40110c00.jpg\n",
            "/content/drive/MyDrive/Colab Folders/Celebrity Recognition AI/dataset/Kate Winslet/083_a685594b.jpg\n",
            "/content/drive/MyDrive/Colab Folders/Celebrity Recognition AI/dataset/Kate Winslet/078_d36c2be3.jpg\n",
            "/content/drive/MyDrive/Colab Folders/Celebrity Recognition AI/dataset/Kate Winslet/081_e9a7882a.jpg\n",
            "/content/drive/MyDrive/Colab Folders/Celebrity Recognition AI/dataset/Kate Winslet/084_25462eb9.jpg\n",
            "/content/drive/MyDrive/Colab Folders/Celebrity Recognition AI/dataset/Kate Winslet/076_2e9c4a35.jpg\n",
            "/content/drive/MyDrive/Colab Folders/Celebrity Recognition AI/dataset/Kate Winslet/077_9bcf9b8c.jpg\n",
            "/content/drive/MyDrive/Colab Folders/Celebrity Recognition AI/dataset/Kate Winslet/079_898bcd6c.jpg\n",
            "/content/drive/MyDrive/Colab Folders/Celebrity Recognition AI/dataset/Kate Winslet/075_98fb973f.jpg\n",
            "/content/drive/MyDrive/Colab Folders/Celebrity Recognition AI/dataset/Kate Winslet/073_f39658d0.jpg\n",
            "/content/drive/MyDrive/Colab Folders/Celebrity Recognition AI/dataset/Kate Winslet/071_6e010995.jpg\n",
            "/content/drive/MyDrive/Colab Folders/Celebrity Recognition AI/dataset/Kate Winslet/069_591ac4fc.jpg\n",
            "/content/drive/MyDrive/Colab Folders/Celebrity Recognition AI/dataset/Kate Winslet/070_257cc94f.jpg\n",
            "/content/drive/MyDrive/Colab Folders/Celebrity Recognition AI/dataset/Kate Winslet/067_fb02357d.jpg\n",
            "/content/drive/MyDrive/Colab Folders/Celebrity Recognition AI/dataset/Kate Winslet/065_86617a5e.jpg\n",
            "/content/drive/MyDrive/Colab Folders/Celebrity Recognition AI/dataset/Kate Winslet/074_a880665b.jpg\n",
            "/content/drive/MyDrive/Colab Folders/Celebrity Recognition AI/dataset/Kate Winslet/072_5372b2f8.jpg\n",
            "/content/drive/MyDrive/Colab Folders/Celebrity Recognition AI/dataset/Kate Winslet/068_712660e4.jpg\n",
            "/content/drive/MyDrive/Colab Folders/Celebrity Recognition AI/dataset/Kate Winslet/066_9c2fdc93.jpg\n",
            "/content/drive/MyDrive/Colab Folders/Celebrity Recognition AI/dataset/Kate Winslet/064_1b7da2f6.jpg\n",
            "/content/drive/MyDrive/Colab Folders/Celebrity Recognition AI/dataset/Kate Winslet/062_92c7c5ef.jpg\n",
            "/content/drive/MyDrive/Colab Folders/Celebrity Recognition AI/dataset/Kate Winslet/061_9885f065.jpg\n",
            "/content/drive/MyDrive/Colab Folders/Celebrity Recognition AI/dataset/Kate Winslet/063_c6f8603d.jpg\n",
            "/content/drive/MyDrive/Colab Folders/Celebrity Recognition AI/dataset/Kate Winslet/059_089c6dcd.jpg\n",
            "/content/drive/MyDrive/Colab Folders/Celebrity Recognition AI/dataset/Kate Winslet/055_30dc3531.jpg\n",
            "/content/drive/MyDrive/Colab Folders/Celebrity Recognition AI/dataset/Kate Winslet/060_58b1413c.jpg\n",
            "/content/drive/MyDrive/Colab Folders/Celebrity Recognition AI/dataset/Kate Winslet/058_7f95baf4.jpg\n",
            "/content/drive/MyDrive/Colab Folders/Celebrity Recognition AI/dataset/Kate Winslet/056_64fde18d.jpg\n",
            "/content/drive/MyDrive/Colab Folders/Celebrity Recognition AI/dataset/Kate Winslet/052_0d214eb0.jpg\n",
            "/content/drive/MyDrive/Colab Folders/Celebrity Recognition AI/dataset/Kate Winslet/054_ca0da4ca.jpg\n",
            "/content/drive/MyDrive/Colab Folders/Celebrity Recognition AI/dataset/Kate Winslet/057_b1a0b23b.jpg\n",
            "/content/drive/MyDrive/Colab Folders/Celebrity Recognition AI/dataset/Kate Winslet/053_e8b9dd3f.jpg\n",
            "/content/drive/MyDrive/Colab Folders/Celebrity Recognition AI/dataset/Kate Winslet/045_c36430d1.jpg\n",
            "/content/drive/MyDrive/Colab Folders/Celebrity Recognition AI/dataset/Kate Winslet/046_1086f507.jpg\n",
            "/content/drive/MyDrive/Colab Folders/Celebrity Recognition AI/dataset/Kate Winslet/048_453e6cb3.jpg\n",
            "/content/drive/MyDrive/Colab Folders/Celebrity Recognition AI/dataset/Kate Winslet/047_c6dd0c78.jpg\n",
            "/content/drive/MyDrive/Colab Folders/Celebrity Recognition AI/dataset/Kate Winslet/050_0c20b215.jpg\n",
            "/content/drive/MyDrive/Colab Folders/Celebrity Recognition AI/dataset/Kate Winslet/049_6cf6b364.jpg\n",
            "/content/drive/MyDrive/Colab Folders/Celebrity Recognition AI/dataset/Kate Winslet/044_c2d670fb.jpg\n",
            "/content/drive/MyDrive/Colab Folders/Celebrity Recognition AI/dataset/Kate Winslet/042_043c0405.jpg\n",
            "/content/drive/MyDrive/Colab Folders/Celebrity Recognition AI/dataset/Kate Winslet/051_06409457.jpg\n",
            "/content/drive/MyDrive/Colab Folders/Celebrity Recognition AI/dataset/Kate Winslet/043_f14565e2.jpg\n",
            "/content/drive/MyDrive/Colab Folders/Celebrity Recognition AI/dataset/Kate Winslet/039_1fcf8174.jpg\n",
            "/content/drive/MyDrive/Colab Folders/Celebrity Recognition AI/dataset/Kate Winslet/041_79dd00e0.jpg\n",
            "/content/drive/MyDrive/Colab Folders/Celebrity Recognition AI/dataset/Kate Winslet/040_a52339de.jpg\n",
            "/content/drive/MyDrive/Colab Folders/Celebrity Recognition AI/dataset/Kate Winslet/038_74aabb03.jpg\n",
            "/content/drive/MyDrive/Colab Folders/Celebrity Recognition AI/dataset/Kate Winslet/037_895f9cda.jpg\n",
            "/content/drive/MyDrive/Colab Folders/Celebrity Recognition AI/dataset/Kate Winslet/035_8e23d941.jpg\n",
            "/content/drive/MyDrive/Colab Folders/Celebrity Recognition AI/dataset/Kate Winslet/032_e3bf7f23.jpg\n",
            "/content/drive/MyDrive/Colab Folders/Celebrity Recognition AI/dataset/Kate Winslet/036_1533e4ff.jpg\n",
            "/content/drive/MyDrive/Colab Folders/Celebrity Recognition AI/dataset/Kate Winslet/034_60fff082.jpg\n",
            "/content/drive/MyDrive/Colab Folders/Celebrity Recognition AI/dataset/Kate Winslet/029_890b58a4.jpg\n",
            "/content/drive/MyDrive/Colab Folders/Celebrity Recognition AI/dataset/Kate Winslet/031_a92db443.jpg\n",
            "/content/drive/MyDrive/Colab Folders/Celebrity Recognition AI/dataset/Kate Winslet/033_c27883e5.jpg\n",
            "/content/drive/MyDrive/Colab Folders/Celebrity Recognition AI/dataset/Kate Winslet/030_92cca8fa.jpg\n",
            "/content/drive/MyDrive/Colab Folders/Celebrity Recognition AI/dataset/Kate Winslet/025_0131eaa3.jpg\n",
            "Johnny Depp\n",
            "/content/drive/MyDrive/Colab Folders/Celebrity Recognition AI/dataset/Johnny Depp/055_cf9af56c.jpg\n",
            "Generating cropped player images in folder: /content/drive/MyDrive/Colab Folders/Celebrity Recognition AI/dataset-cropped/Johnny Depp\n",
            "/content/drive/MyDrive/Colab Folders/Celebrity Recognition AI/dataset/Johnny Depp/052_e2e5ef6b.jpg\n",
            "/content/drive/MyDrive/Colab Folders/Celebrity Recognition AI/dataset/Johnny Depp/050_6641bd32.jpg\n",
            "/content/drive/MyDrive/Colab Folders/Celebrity Recognition AI/dataset/Johnny Depp/051_2505e244.jpg\n",
            "/content/drive/MyDrive/Colab Folders/Celebrity Recognition AI/dataset/Johnny Depp/045_865604b0.jpg\n",
            "/content/drive/MyDrive/Colab Folders/Celebrity Recognition AI/dataset/Johnny Depp/044_18b89b8d.jpg\n",
            "/content/drive/MyDrive/Colab Folders/Celebrity Recognition AI/dataset/Johnny Depp/048_8af82c54.jpg\n",
            "/content/drive/MyDrive/Colab Folders/Celebrity Recognition AI/dataset/Johnny Depp/049_9254f6f2.jpg\n",
            "/content/drive/MyDrive/Colab Folders/Celebrity Recognition AI/dataset/Johnny Depp/042_05ce6c69.jpg\n",
            "/content/drive/MyDrive/Colab Folders/Celebrity Recognition AI/dataset/Johnny Depp/046_31d6a7d8.jpg\n",
            "/content/drive/MyDrive/Colab Folders/Celebrity Recognition AI/dataset/Johnny Depp/043_77e393de.jpg\n",
            "/content/drive/MyDrive/Colab Folders/Celebrity Recognition AI/dataset/Johnny Depp/041_6ec992c9.jpg\n",
            "/content/drive/MyDrive/Colab Folders/Celebrity Recognition AI/dataset/Johnny Depp/047_6c6a66d2.jpg\n",
            "/content/drive/MyDrive/Colab Folders/Celebrity Recognition AI/dataset/Johnny Depp/040_2e8934ea.jpg\n",
            "/content/drive/MyDrive/Colab Folders/Celebrity Recognition AI/dataset/Johnny Depp/035_2a1b8bcf.jpg\n",
            "/content/drive/MyDrive/Colab Folders/Celebrity Recognition AI/dataset/Johnny Depp/036_c93144a5.jpg\n",
            "/content/drive/MyDrive/Colab Folders/Celebrity Recognition AI/dataset/Johnny Depp/039_13af66c8.jpg\n",
            "/content/drive/MyDrive/Colab Folders/Celebrity Recognition AI/dataset/Johnny Depp/037_f2fb045b.jpg\n",
            "/content/drive/MyDrive/Colab Folders/Celebrity Recognition AI/dataset/Johnny Depp/033_ef398d45.jpg\n",
            "/content/drive/MyDrive/Colab Folders/Celebrity Recognition AI/dataset/Johnny Depp/032_4b3ee537.jpg\n",
            "/content/drive/MyDrive/Colab Folders/Celebrity Recognition AI/dataset/Johnny Depp/030_ddacf348.jpg\n",
            "/content/drive/MyDrive/Colab Folders/Celebrity Recognition AI/dataset/Johnny Depp/038_081386a5.jpg\n",
            "/content/drive/MyDrive/Colab Folders/Celebrity Recognition AI/dataset/Johnny Depp/034_52d180f0.jpg\n",
            "/content/drive/MyDrive/Colab Folders/Celebrity Recognition AI/dataset/Johnny Depp/031_86ed9fca.jpg\n",
            "/content/drive/MyDrive/Colab Folders/Celebrity Recognition AI/dataset/Johnny Depp/029_30aec656.jpg\n",
            "/content/drive/MyDrive/Colab Folders/Celebrity Recognition AI/dataset/Johnny Depp/028_ce59b46d.jpg\n",
            "/content/drive/MyDrive/Colab Folders/Celebrity Recognition AI/dataset/Johnny Depp/025_4f2ec7c1.jpg\n",
            "/content/drive/MyDrive/Colab Folders/Celebrity Recognition AI/dataset/Johnny Depp/023_4e454f96.jpg\n",
            "/content/drive/MyDrive/Colab Folders/Celebrity Recognition AI/dataset/Johnny Depp/027_2eab41f9.jpg\n",
            "/content/drive/MyDrive/Colab Folders/Celebrity Recognition AI/dataset/Johnny Depp/026_20c41942.jpg\n",
            "/content/drive/MyDrive/Colab Folders/Celebrity Recognition AI/dataset/Johnny Depp/024_bfac5f5b.jpg\n",
            "/content/drive/MyDrive/Colab Folders/Celebrity Recognition AI/dataset/Johnny Depp/022_a0763313.jpg\n",
            "/content/drive/MyDrive/Colab Folders/Celebrity Recognition AI/dataset/Johnny Depp/020_6b7d8470.jpg\n",
            "/content/drive/MyDrive/Colab Folders/Celebrity Recognition AI/dataset/Johnny Depp/018_14e5366f.jpg\n",
            "/content/drive/MyDrive/Colab Folders/Celebrity Recognition AI/dataset/Johnny Depp/017_aadefe7b.jpg\n",
            "/content/drive/MyDrive/Colab Folders/Celebrity Recognition AI/dataset/Johnny Depp/021_9ab18f1b.jpg\n",
            "/content/drive/MyDrive/Colab Folders/Celebrity Recognition AI/dataset/Johnny Depp/019_3eb26944.jpg\n",
            "/content/drive/MyDrive/Colab Folders/Celebrity Recognition AI/dataset/Johnny Depp/013_f44c68a1.jpg\n",
            "/content/drive/MyDrive/Colab Folders/Celebrity Recognition AI/dataset/Johnny Depp/014_68248214.jpg\n",
            "/content/drive/MyDrive/Colab Folders/Celebrity Recognition AI/dataset/Johnny Depp/015_0474556e.jpg\n",
            "/content/drive/MyDrive/Colab Folders/Celebrity Recognition AI/dataset/Johnny Depp/016_8b4d3698.jpg\n",
            "/content/drive/MyDrive/Colab Folders/Celebrity Recognition AI/dataset/Johnny Depp/011_c826a613.jpg\n",
            "/content/drive/MyDrive/Colab Folders/Celebrity Recognition AI/dataset/Johnny Depp/010_610eea60.jpg\n",
            "/content/drive/MyDrive/Colab Folders/Celebrity Recognition AI/dataset/Johnny Depp/012_563f0843.jpg\n",
            "/content/drive/MyDrive/Colab Folders/Celebrity Recognition AI/dataset/Johnny Depp/008_35d1be70.jpg\n",
            "/content/drive/MyDrive/Colab Folders/Celebrity Recognition AI/dataset/Johnny Depp/009_f4a38fec.jpg\n",
            "/content/drive/MyDrive/Colab Folders/Celebrity Recognition AI/dataset/Johnny Depp/006_8fc31fd7.jpg\n",
            "/content/drive/MyDrive/Colab Folders/Celebrity Recognition AI/dataset/Johnny Depp/004_18e08ab4.jpg\n",
            "/content/drive/MyDrive/Colab Folders/Celebrity Recognition AI/dataset/Johnny Depp/007_1bc0bcd6.jpg\n",
            "/content/drive/MyDrive/Colab Folders/Celebrity Recognition AI/dataset/Johnny Depp/005_9406f32d.jpg\n",
            "/content/drive/MyDrive/Colab Folders/Celebrity Recognition AI/dataset/Johnny Depp/001_2288a4f6.jpg\n",
            "/content/drive/MyDrive/Colab Folders/Celebrity Recognition AI/dataset/Johnny Depp/003_64926b97.jpg\n",
            "/content/drive/MyDrive/Colab Folders/Celebrity Recognition AI/dataset/Johnny Depp/002_331d0423.jpg\n",
            "/content/drive/MyDrive/Colab Folders/Celebrity Recognition AI/dataset/Johnny Depp/100_120c14bc.jpg\n",
            "/content/drive/MyDrive/Colab Folders/Celebrity Recognition AI/dataset/Johnny Depp/099_d88c0793.jpg\n",
            "/content/drive/MyDrive/Colab Folders/Celebrity Recognition AI/dataset/Johnny Depp/098_16b30dda.jpg\n",
            "/content/drive/MyDrive/Colab Folders/Celebrity Recognition AI/dataset/Johnny Depp/097_11415581.jpg\n",
            "/content/drive/MyDrive/Colab Folders/Celebrity Recognition AI/dataset/Johnny Depp/096_78a5a076.jpg\n",
            "/content/drive/MyDrive/Colab Folders/Celebrity Recognition AI/dataset/Johnny Depp/090_c5d1d9eb.jpg\n",
            "/content/drive/MyDrive/Colab Folders/Celebrity Recognition AI/dataset/Johnny Depp/092_3943353c.jpg\n",
            "/content/drive/MyDrive/Colab Folders/Celebrity Recognition AI/dataset/Johnny Depp/091_c3ad83af.jpg\n",
            "/content/drive/MyDrive/Colab Folders/Celebrity Recognition AI/dataset/Johnny Depp/089_2f2e823a.jpg\n",
            "/content/drive/MyDrive/Colab Folders/Celebrity Recognition AI/dataset/Johnny Depp/093_8cb84a89.jpg\n",
            "/content/drive/MyDrive/Colab Folders/Celebrity Recognition AI/dataset/Johnny Depp/088_1fcc7b2c.jpg\n",
            "/content/drive/MyDrive/Colab Folders/Celebrity Recognition AI/dataset/Johnny Depp/087_f9794152.jpg\n",
            "/content/drive/MyDrive/Colab Folders/Celebrity Recognition AI/dataset/Johnny Depp/095_233dc3f2.jpg\n",
            "/content/drive/MyDrive/Colab Folders/Celebrity Recognition AI/dataset/Johnny Depp/094_42a45a8d.jpg\n",
            "/content/drive/MyDrive/Colab Folders/Celebrity Recognition AI/dataset/Johnny Depp/086_f052c533.jpg\n",
            "/content/drive/MyDrive/Colab Folders/Celebrity Recognition AI/dataset/Johnny Depp/084_3dcf601a.jpg\n",
            "/content/drive/MyDrive/Colab Folders/Celebrity Recognition AI/dataset/Johnny Depp/085_e9f6ea07.jpg\n",
            "/content/drive/MyDrive/Colab Folders/Celebrity Recognition AI/dataset/Johnny Depp/082_742073a1.jpg\n",
            "/content/drive/MyDrive/Colab Folders/Celebrity Recognition AI/dataset/Johnny Depp/081_059a278c.jpg\n",
            "/content/drive/MyDrive/Colab Folders/Celebrity Recognition AI/dataset/Johnny Depp/079_241963dc.jpg\n",
            "/content/drive/MyDrive/Colab Folders/Celebrity Recognition AI/dataset/Johnny Depp/080_38c2109a.jpg\n",
            "/content/drive/MyDrive/Colab Folders/Celebrity Recognition AI/dataset/Johnny Depp/076_b28d1fac.jpg\n",
            "/content/drive/MyDrive/Colab Folders/Celebrity Recognition AI/dataset/Johnny Depp/083_16b5e7ab.jpg\n",
            "/content/drive/MyDrive/Colab Folders/Celebrity Recognition AI/dataset/Johnny Depp/078_b7114bcb.jpg\n",
            "/content/drive/MyDrive/Colab Folders/Celebrity Recognition AI/dataset/Johnny Depp/077_5cbf1ecc.jpg\n",
            "/content/drive/MyDrive/Colab Folders/Celebrity Recognition AI/dataset/Johnny Depp/073_71584704.jpg\n",
            "/content/drive/MyDrive/Colab Folders/Celebrity Recognition AI/dataset/Johnny Depp/075_21e87f0f.jpg\n",
            "/content/drive/MyDrive/Colab Folders/Celebrity Recognition AI/dataset/Johnny Depp/074_bd6f3a84.jpg\n",
            "/content/drive/MyDrive/Colab Folders/Celebrity Recognition AI/dataset/Johnny Depp/067_5234e510.jpg\n",
            "/content/drive/MyDrive/Colab Folders/Celebrity Recognition AI/dataset/Johnny Depp/068_006344c5.jpg\n",
            "/content/drive/MyDrive/Colab Folders/Celebrity Recognition AI/dataset/Johnny Depp/069_2b2270ce.jpg\n",
            "/content/drive/MyDrive/Colab Folders/Celebrity Recognition AI/dataset/Johnny Depp/065_6f1ed846.jpg\n",
            "/content/drive/MyDrive/Colab Folders/Celebrity Recognition AI/dataset/Johnny Depp/072_f2c8b6e9.jpg\n",
            "/content/drive/MyDrive/Colab Folders/Celebrity Recognition AI/dataset/Johnny Depp/071_d3036d43.jpg\n",
            "/content/drive/MyDrive/Colab Folders/Celebrity Recognition AI/dataset/Johnny Depp/066_653f2a94.jpg\n",
            "/content/drive/MyDrive/Colab Folders/Celebrity Recognition AI/dataset/Johnny Depp/064_aa733f0c.jpg\n",
            "/content/drive/MyDrive/Colab Folders/Celebrity Recognition AI/dataset/Johnny Depp/070_1e22daa2.jpg\n",
            "/content/drive/MyDrive/Colab Folders/Celebrity Recognition AI/dataset/Johnny Depp/063_bdcf4753.jpg\n",
            "/content/drive/MyDrive/Colab Folders/Celebrity Recognition AI/dataset/Johnny Depp/061_4544a552.jpg\n",
            "/content/drive/MyDrive/Colab Folders/Celebrity Recognition AI/dataset/Johnny Depp/062_23b3470a.jpg\n",
            "/content/drive/MyDrive/Colab Folders/Celebrity Recognition AI/dataset/Johnny Depp/060_3cf86eaf.jpg\n",
            "/content/drive/MyDrive/Colab Folders/Celebrity Recognition AI/dataset/Johnny Depp/059_27a0e6f1.jpg\n",
            "/content/drive/MyDrive/Colab Folders/Celebrity Recognition AI/dataset/Johnny Depp/058_7e4aeab8.jpg\n",
            "/content/drive/MyDrive/Colab Folders/Celebrity Recognition AI/dataset/Johnny Depp/056_c5e6243c.jpg\n",
            "/content/drive/MyDrive/Colab Folders/Celebrity Recognition AI/dataset/Johnny Depp/057_ee633567.jpg\n",
            "/content/drive/MyDrive/Colab Folders/Celebrity Recognition AI/dataset/Johnny Depp/054_50f42b56.jpg\n",
            "/content/drive/MyDrive/Colab Folders/Celebrity Recognition AI/dataset/Johnny Depp/053_5b42d9d9.jpg\n"
          ]
        }
      ]
    },
    {
      "cell_type": "code",
      "source": [
        "def w2d(img, mode='haar', level=1):\n",
        "  imArray = img\n",
        "  imArray = cv2.cvtColor(imArray, cv2.COLOR_RGB2GRAY )\n",
        "  imArray = np.float32(imArray)\n",
        "  imArray /= 255;\n",
        "  coeffs=pywt.wavedec2(imArray, mode, level=level)\n",
        "\n",
        "  coeffs_H=list(coeffs)\n",
        "  coeffs_H[0] *= 0;\n",
        "\n",
        "  imArray_H=pywt.waverec2(coeffs_H, mode);\n",
        "  imArray_H *= 255;\n",
        "  imArray_H =  np.uint8(imArray_H)\n",
        "\n",
        "  return imArray_H"
      ],
      "metadata": {
        "id": "VAvWmPSeIQmn"
      },
      "execution_count": null,
      "outputs": []
    },
    {
      "cell_type": "code",
      "source": [
        "class_dict = {}\n",
        "count = 0\n",
        "for celebrity_name in celebrity_file_names_dict.keys():\n",
        "  class_dict[celebrity_name] = count\n",
        "  count = count + 1\n",
        "class_dict"
      ],
      "metadata": {
        "colab": {
          "base_uri": "https://localhost:8080/"
        },
        "id": "vdZzAWEUJx9y",
        "outputId": "136ef59a-9273-4ef7-cd77-3fde05162a1c"
      },
      "execution_count": null,
      "outputs": [
        {
          "output_type": "execute_result",
          "data": {
            "text/plain": [
              "{'Natalie Portman': 0,\n",
              " 'Megan Fox': 1,\n",
              " 'Leonardo DiCaprio': 2,\n",
              " 'Kate Winslet': 3,\n",
              " 'Johnny Depp': 4}"
            ]
          },
          "metadata": {},
          "execution_count": 10
        }
      ]
    },
    {
      "cell_type": "code",
      "source": [
        "X, y = [], []\n",
        "for celebrity_name, training_files in celebrity_file_names_dict.items():\n",
        "  for training_image in training_files:\n",
        "    img = cv2.imread(training_image)\n",
        "    if img is None:\n",
        "      continue\n",
        "    scalled_raw_img = cv2.resize(img, (32, 32))\n",
        "    img_har = w2d(img,'db1',5)\n",
        "    scalled_img_har = cv2.resize(img_har, (32, 32))\n",
        "    combined_img = np.vstack((scalled_raw_img.reshape(32*32*3,1),scalled_img_har.reshape(32*32,1)))\n",
        "    X.append(combined_img)\n",
        "    y.append(class_dict[celebrity_name])"
      ],
      "metadata": {
        "id": "k5gmjZrdJ6eA"
      },
      "execution_count": null,
      "outputs": []
    },
    {
      "cell_type": "code",
      "source": [
        "len(X[0])"
      ],
      "metadata": {
        "colab": {
          "base_uri": "https://localhost:8080/"
        },
        "id": "K9Nd-yv5TlJq",
        "outputId": "51c13715-c11f-40d9-b40b-a4feb68516ad"
      },
      "execution_count": null,
      "outputs": [
        {
          "output_type": "execute_result",
          "data": {
            "text/plain": [
              "4096"
            ]
          },
          "metadata": {},
          "execution_count": 12
        }
      ]
    },
    {
      "cell_type": "code",
      "source": [
        "X = np.array(X).reshape(len(X), 4096).astype(float)\n",
        "X.shape"
      ],
      "metadata": {
        "colab": {
          "base_uri": "https://localhost:8080/"
        },
        "id": "Whz4Nrn7KLeh",
        "outputId": "e76536ca-63c8-4c85-bc52-a0b256ff5ab7"
      },
      "execution_count": null,
      "outputs": [
        {
          "output_type": "execute_result",
          "data": {
            "text/plain": [
              "(396, 4096)"
            ]
          },
          "metadata": {},
          "execution_count": 13
        }
      ]
    },
    {
      "cell_type": "code",
      "source": [
        "X_train, X_test, y_train, y_test = train_test_split(X, y, test_size=0.2)\n",
        "X_train"
      ],
      "metadata": {
        "colab": {
          "base_uri": "https://localhost:8080/"
        },
        "id": "cWET6vkQTJ10",
        "outputId": "a6662601-c482-468a-8dad-fef95325c3d2"
      },
      "execution_count": null,
      "outputs": [
        {
          "output_type": "execute_result",
          "data": {
            "text/plain": [
              "array([[ 32.,  61.,  91., ..., 110.,  82., 189.],\n",
              "       [ 14.,  49.,  39., ...,  18.,  10., 252.],\n",
              "       [223., 219., 218., ...,   0.,   0., 255.],\n",
              "       ...,\n",
              "       [ 21.,  25.,  40., ..., 241., 244., 215.],\n",
              "       [ 80.,  90., 108., ...,  11., 244., 116.],\n",
              "       [ 71., 101., 180., ...,  16., 232., 231.]])"
            ]
          },
          "metadata": {},
          "execution_count": 14
        }
      ]
    },
    {
      "cell_type": "code",
      "source": [
        "pipe = make_pipeline(StandardScaler(),\n",
        "                     LogisticRegression(max_iter=300))\n",
        "pipe.fit(X_train, y_train)\n",
        "pipe.score(X_test, y_test)"
      ],
      "metadata": {
        "colab": {
          "base_uri": "https://localhost:8080/"
        },
        "id": "tPUZYrCQMODi",
        "outputId": "fabbcd7c-72bf-4e65-8a51-f89650533ee8"
      },
      "execution_count": null,
      "outputs": [
        {
          "output_type": "execute_result",
          "data": {
            "text/plain": [
              "0.8375"
            ]
          },
          "metadata": {},
          "execution_count": 17
        }
      ]
    },
    {
      "cell_type": "code",
      "source": [
        "cm = confusion_matrix(pipe.predict(X_test), y_test)\n",
        "cm"
      ],
      "metadata": {
        "colab": {
          "base_uri": "https://localhost:8080/"
        },
        "id": "Yewq3MI7ZOcg",
        "outputId": "3d18b509-72d6-497f-cdff-24f400656410"
      },
      "execution_count": null,
      "outputs": [
        {
          "output_type": "execute_result",
          "data": {
            "text/plain": [
              "array([[12,  2,  0,  3,  0],\n",
              "       [ 1, 17,  0,  1,  1],\n",
              "       [ 1,  1, 11,  0,  1],\n",
              "       [ 0,  1,  0, 19,  1],\n",
              "       [ 0,  0,  0,  0,  8]])"
            ]
          },
          "metadata": {},
          "execution_count": 18
        }
      ]
    },
    {
      "cell_type": "code",
      "source": [
        "plt.figure(figsize=(10, 7))\n",
        "sn.heatmap(cm, annot=True)\n",
        "plt.xlabel('Predicted')\n",
        "plt.ylabel('Truth')"
      ],
      "metadata": {
        "colab": {
          "base_uri": "https://localhost:8080/",
          "height": 636
        },
        "id": "F4WRxCp2ZZmR",
        "outputId": "08138df1-02bd-4743-ec65-b0525f4dab60"
      },
      "execution_count": null,
      "outputs": [
        {
          "output_type": "execute_result",
          "data": {
            "text/plain": [
              "Text(95.72222222222221, 0.5, 'Truth')"
            ]
          },
          "metadata": {},
          "execution_count": 19
        },
        {
          "output_type": "display_data",
          "data": {
            "text/plain": [
              "<Figure size 1000x700 with 2 Axes>"
            ],
            "image/png": "[encoded data removed]"
          },
          "metadata": {}
        }
      ]
    },
    {
      "cell_type": "code",
      "source": [
        "joblib.dump(pipe, '/content/drive/MyDrive/Colab Folders/Celebrity Recognition AI/model.pkl')"
      ],
      "metadata": {
        "colab": {
          "base_uri": "https://localhost:8080/"
        },
        "id": "eejdJ5cjZqFs",
        "outputId": "5f71f25f-7614-4a42-945e-2149f5061e62"
      },
      "execution_count": null,
      "outputs": [
        {
          "output_type": "execute_result",
          "data": {
            "text/plain": [
              "['/content/drive/MyDrive/Colab Folders/Celebrity Recognition AI/model.pkl']"
            ]
          },
          "metadata": {},
          "execution_count": 20
        }
      ]
    },
    {
      "cell_type": "code",
      "source": [
        "with open('/content/drive/MyDrive/Colab Folders/Celebrity Recognition AI/class_dictionary.json', 'w') as f:\n",
        "  f.write(json.dumps(class_dict))"
      ],
      "metadata": {
        "id": "CBXSb7sDZ4xz"
      },
      "execution_count": null,
      "outputs": []
    }
  ]
}